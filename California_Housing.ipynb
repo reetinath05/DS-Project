{
 "cells": [
  {
   "cell_type": "markdown",
   "id": "d2d91197-98be-4055-9d7e-a2c105b04769",
   "metadata": {},
   "source": [
    "### Read the “housing.csv” file from the folder into the program."
   ]
  },
  {
   "cell_type": "code",
   "execution_count": 2,
   "id": "40de0abb-8249-4cba-a40b-62f0e2f629e2",
   "metadata": {},
   "outputs": [],
   "source": [
    "import pandas as pd\n",
    "import numpy as np"
   ]
  },
  {
   "cell_type": "code",
   "execution_count": 32,
   "id": "4c3d84f8-6cdd-4665-8dd6-b3507fc319c7",
   "metadata": {},
   "outputs": [],
   "source": [
    "housing=pd.read_excel(\"F:\\\\DS\\\\Python_datasets\\\\California_housing.xlsx\")\n",
    "df=pd.DataFrame(housing)"
   ]
  },
  {
   "cell_type": "markdown",
   "id": "2f10151d-9415-4219-910a-8d836639784d",
   "metadata": {},
   "source": [
    "### Print first few rows of this data.\n"
   ]
  },
  {
   "cell_type": "code",
   "execution_count": 4,
   "id": "4ebe2c94-2c22-40f9-ac5b-e346ab620529",
   "metadata": {},
   "outputs": [
    {
     "data": {
      "text/html": [
       "<div>\n",
       "<style scoped>\n",
       "    .dataframe tbody tr th:only-of-type {\n",
       "        vertical-align: middle;\n",
       "    }\n",
       "\n",
       "    .dataframe tbody tr th {\n",
       "        vertical-align: top;\n",
       "    }\n",
       "\n",
       "    .dataframe thead th {\n",
       "        text-align: right;\n",
       "    }\n",
       "</style>\n",
       "<table border=\"1\" class=\"dataframe\">\n",
       "  <thead>\n",
       "    <tr style=\"text-align: right;\">\n",
       "      <th></th>\n",
       "      <th>longitude</th>\n",
       "      <th>latitude</th>\n",
       "      <th>housing_median_age</th>\n",
       "      <th>total_rooms</th>\n",
       "      <th>total_bedrooms</th>\n",
       "      <th>population</th>\n",
       "      <th>households</th>\n",
       "      <th>median_income</th>\n",
       "      <th>ocean_proximity</th>\n",
       "      <th>median_house_value</th>\n",
       "    </tr>\n",
       "  </thead>\n",
       "  <tbody>\n",
       "    <tr>\n",
       "      <th>0</th>\n",
       "      <td>-122.23</td>\n",
       "      <td>37.88</td>\n",
       "      <td>41</td>\n",
       "      <td>880</td>\n",
       "      <td>129.0</td>\n",
       "      <td>322</td>\n",
       "      <td>126</td>\n",
       "      <td>8.3252</td>\n",
       "      <td>NEAR BAY</td>\n",
       "      <td>452600</td>\n",
       "    </tr>\n",
       "    <tr>\n",
       "      <th>1</th>\n",
       "      <td>-122.22</td>\n",
       "      <td>37.86</td>\n",
       "      <td>21</td>\n",
       "      <td>7099</td>\n",
       "      <td>1106.0</td>\n",
       "      <td>2401</td>\n",
       "      <td>1138</td>\n",
       "      <td>8.3014</td>\n",
       "      <td>NEAR BAY</td>\n",
       "      <td>358500</td>\n",
       "    </tr>\n",
       "    <tr>\n",
       "      <th>2</th>\n",
       "      <td>-122.24</td>\n",
       "      <td>37.85</td>\n",
       "      <td>52</td>\n",
       "      <td>1467</td>\n",
       "      <td>190.0</td>\n",
       "      <td>496</td>\n",
       "      <td>177</td>\n",
       "      <td>7.2574</td>\n",
       "      <td>NEAR BAY</td>\n",
       "      <td>352100</td>\n",
       "    </tr>\n",
       "    <tr>\n",
       "      <th>3</th>\n",
       "      <td>-122.25</td>\n",
       "      <td>37.85</td>\n",
       "      <td>52</td>\n",
       "      <td>1274</td>\n",
       "      <td>235.0</td>\n",
       "      <td>558</td>\n",
       "      <td>219</td>\n",
       "      <td>5.6431</td>\n",
       "      <td>NEAR BAY</td>\n",
       "      <td>341300</td>\n",
       "    </tr>\n",
       "    <tr>\n",
       "      <th>4</th>\n",
       "      <td>-122.25</td>\n",
       "      <td>37.85</td>\n",
       "      <td>52</td>\n",
       "      <td>1627</td>\n",
       "      <td>280.0</td>\n",
       "      <td>565</td>\n",
       "      <td>259</td>\n",
       "      <td>3.8462</td>\n",
       "      <td>NEAR BAY</td>\n",
       "      <td>342200</td>\n",
       "    </tr>\n",
       "  </tbody>\n",
       "</table>\n",
       "</div>"
      ],
      "text/plain": [
       "   longitude  latitude  housing_median_age  total_rooms  total_bedrooms  \\\n",
       "0    -122.23     37.88                  41          880           129.0   \n",
       "1    -122.22     37.86                  21         7099          1106.0   \n",
       "2    -122.24     37.85                  52         1467           190.0   \n",
       "3    -122.25     37.85                  52         1274           235.0   \n",
       "4    -122.25     37.85                  52         1627           280.0   \n",
       "\n",
       "   population  households  median_income ocean_proximity  median_house_value  \n",
       "0         322         126         8.3252        NEAR BAY              452600  \n",
       "1        2401        1138         8.3014        NEAR BAY              358500  \n",
       "2         496         177         7.2574        NEAR BAY              352100  \n",
       "3         558         219         5.6431        NEAR BAY              341300  \n",
       "4         565         259         3.8462        NEAR BAY              342200  "
      ]
     },
     "execution_count": 4,
     "metadata": {},
     "output_type": "execute_result"
    }
   ],
   "source": [
    "housing.head(5)"
   ]
  },
  {
   "cell_type": "markdown",
   "id": "e444808e-2f7b-4f8e-96b0-ad2f93eee404",
   "metadata": {},
   "source": [
    "### Handle missing values"
   ]
  },
  {
   "cell_type": "code",
   "execution_count": 8,
   "id": "ca440f00-34cf-4c78-abfa-33b1860383a5",
   "metadata": {},
   "outputs": [
    {
     "name": "stdout",
     "output_type": "stream",
     "text": [
      "<class 'pandas.core.frame.DataFrame'>\n",
      "RangeIndex: 20640 entries, 0 to 20639\n",
      "Data columns (total 10 columns):\n",
      " #   Column              Non-Null Count  Dtype  \n",
      "---  ------              --------------  -----  \n",
      " 0   longitude           20640 non-null  float64\n",
      " 1   latitude            20640 non-null  float64\n",
      " 2   housing_median_age  20640 non-null  int64  \n",
      " 3   total_rooms         20640 non-null  int64  \n",
      " 4   total_bedrooms      20433 non-null  float64\n",
      " 5   population          20640 non-null  int64  \n",
      " 6   households          20640 non-null  int64  \n",
      " 7   median_income       20640 non-null  float64\n",
      " 8   ocean_proximity     20640 non-null  object \n",
      " 9   median_house_value  20640 non-null  int64  \n",
      "dtypes: float64(4), int64(5), object(1)\n",
      "memory usage: 1.6+ MB\n"
     ]
    }
   ],
   "source": [
    "housing.info()"
   ]
  },
  {
   "cell_type": "code",
   "execution_count": 33,
   "id": "9bf0344a-fff1-4bfe-9c2b-37100fb425b0",
   "metadata": {},
   "outputs": [
    {
     "data": {
      "text/plain": [
       "longitude               0\n",
       "latitude                0\n",
       "housing_median_age      0\n",
       "total_rooms             0\n",
       "total_bedrooms        207\n",
       "population              0\n",
       "households              0\n",
       "median_income           0\n",
       "ocean_proximity         0\n",
       "median_house_value      0\n",
       "dtype: int64"
      ]
     },
     "execution_count": 33,
     "metadata": {},
     "output_type": "execute_result"
    }
   ],
   "source": [
    "#total_rooms has missing values\n",
    "df.isna().sum()"
   ]
  },
  {
   "cell_type": "code",
   "execution_count": null,
   "id": "bb745a1d-d741-4b05-b235-1a0dcb7e8514",
   "metadata": {},
   "outputs": [],
   "source": [
    "#207 missing records."
   ]
  },
  {
   "cell_type": "markdown",
   "id": "171910b7-c73f-463e-a618-5967e63ef78e",
   "metadata": {},
   "source": [
    "### Handle missing values : Fill the missing values with the mean of the respective column."
   ]
  },
  {
   "cell_type": "code",
   "execution_count": 202,
   "id": "9fa0a33e-08ac-4db5-8b0b-1002011e868f",
   "metadata": {},
   "outputs": [
    {
     "name": "stdout",
     "output_type": "stream",
     "text": [
      "206855.81690891474 179700.0\n"
     ]
    }
   ],
   "source": [
    "housing.total_bedrooms.mean()\n",
    "print(housing.median_house_value.mean(),housing.median_house_value.median())"
   ]
  },
  {
   "cell_type": "code",
   "execution_count": 36,
   "id": "63378d54-5046-4f37-92db-76a438fb6082",
   "metadata": {},
   "outputs": [],
   "source": [
    "df[['total_bedrooms']]=df[['total_bedrooms']].fillna(housing.total_bedrooms.mean())\n"
   ]
  },
  {
   "cell_type": "code",
   "execution_count": 37,
   "id": "914905a3-2bd0-49eb-9507-5d20e4ca03bd",
   "metadata": {},
   "outputs": [
    {
     "data": {
      "text/plain": [
       "longitude             0\n",
       "latitude              0\n",
       "housing_median_age    0\n",
       "total_rooms           0\n",
       "total_bedrooms        0\n",
       "population            0\n",
       "households            0\n",
       "median_income         0\n",
       "ocean_proximity       0\n",
       "median_house_value    0\n",
       "dtype: int64"
      ]
     },
     "execution_count": 37,
     "metadata": {},
     "output_type": "execute_result"
    }
   ],
   "source": [
    "df.isna().sum()"
   ]
  },
  {
   "cell_type": "markdown",
   "id": "375a9272-e39b-4732-840a-09af4239579e",
   "metadata": {},
   "source": [
    "### Encode categorical data :Convert categorical column in the dataset to numerical data."
   ]
  },
  {
   "cell_type": "code",
   "execution_count": 133,
   "id": "e99ab02e-16ff-40e4-ad1f-beae371ad140",
   "metadata": {},
   "outputs": [],
   "source": [
    "from sklearn.preprocessing import LabelEncoder,StandardScaler\n",
    "le = LabelEncoder()\n",
    "df['ocean_proximity']=le.fit_transform(df['ocean_proximity'])"
   ]
  },
  {
   "cell_type": "markdown",
   "id": "cd218f0f-f427-4848-9f91-2e00b8e7dbc3",
   "metadata": {},
   "source": [
    "### Extract input (X) and output (Y) data from the dataset."
   ]
  },
  {
   "cell_type": "code",
   "execution_count": 134,
   "id": "c362332f-ccc6-479c-8b39-4daa9e828116",
   "metadata": {
    "tags": []
   },
   "outputs": [],
   "source": [
    "X=df.drop(columns =['median_house_value'])\n",
    "Y=df.median_house_value\n"
   ]
  },
  {
   "cell_type": "markdown",
   "id": "28705277-41d0-44a1-a7bb-f81403978867",
   "metadata": {},
   "source": [
    "### Split the dataset : Split the data into 80% training dataset and 20% test dataset."
   ]
  },
  {
   "cell_type": "code",
   "execution_count": 54,
   "id": "144dcbac-32de-4076-9234-641538e55590",
   "metadata": {
    "tags": []
   },
   "outputs": [],
   "source": [
    "from sklearn.model_selection import train_test_split"
   ]
  },
  {
   "cell_type": "code",
   "execution_count": 135,
   "id": "64c93e9a-74eb-45b6-8102-528e4c592357",
   "metadata": {},
   "outputs": [
    {
     "data": {
      "text/plain": [
       "14196    103000\n",
       "8267     382100\n",
       "17445    172600\n",
       "14265     93400\n",
       "2271      96500\n",
       "          ...  \n",
       "11284    229200\n",
       "11964     97800\n",
       "5390     222100\n",
       "860      283500\n",
       "15795    325000\n",
       "Name: median_house_value, Length: 16512, dtype: int64"
      ]
     },
     "execution_count": 135,
     "metadata": {},
     "output_type": "execute_result"
    }
   ],
   "source": [
    "X_train, X_test, y_train, y_test = train_test_split(X, Y, test_size=0.20, random_state=42)\n",
    "y_train"
   ]
  },
  {
   "cell_type": "markdown",
   "id": "b39e4747-aa77-4ddd-9e06-eeaba425d33c",
   "metadata": {},
   "source": [
    "### Standardize data :Standardize training and test datasets."
   ]
  },
  {
   "cell_type": "code",
   "execution_count": 59,
   "id": "7ccc8229-8571-49aa-9862-d58ae3bdc52c",
   "metadata": {},
   "outputs": [],
   "source": [
    "from sklearn.preprocessing import StandardScaler \n",
    "stand=StandardScaler()"
   ]
  },
  {
   "cell_type": "code",
   "execution_count": 136,
   "id": "1c18580b-b8ff-46bf-8291-48bf9e38de48",
   "metadata": {
    "collapsed": true,
    "jupyter": {
     "outputs_hidden": true
    },
    "tags": []
   },
   "outputs": [
    {
     "data": {
      "text/plain": [
       "array([[ 1.27258656, -1.3728112 ,  0.34849025, ...,  0.32290591,\n",
       "        -0.326196  ,  2.00593172],\n",
       "       [ 0.70916212, -0.87669601,  1.61811813, ...,  0.6720272 ,\n",
       "        -0.03584338,  2.00593172],\n",
       "       [-0.44760309, -0.46014647, -1.95271028, ..., -0.43046109,\n",
       "         0.14470145,  2.00593172],\n",
       "       ...,\n",
       "       [ 0.59946887, -0.75500738,  0.58654547, ...,  0.07090859,\n",
       "        -0.49697313, -0.81854604],\n",
       "       [-1.18553953,  0.90651045, -1.07984112, ...,  0.15490769,\n",
       "         0.96545045, -0.81854604],\n",
       "       [-1.41489815,  0.99543676,  1.85617335, ...,  1.94776365,\n",
       "        -0.68544764,  1.29981228]])"
      ]
     },
     "execution_count": 136,
     "metadata": {},
     "output_type": "execute_result"
    }
   ],
   "source": [
    "stand.fit_transform(X_train,X_test)"
   ]
  },
  {
   "cell_type": "code",
   "execution_count": 79,
   "id": "21c74234-03fb-41df-ac3f-7561d2cdbd97",
   "metadata": {
    "tags": []
   },
   "outputs": [
    {
     "data": {
      "text/html": [
       "<div>\n",
       "<style scoped>\n",
       "    .dataframe tbody tr th:only-of-type {\n",
       "        vertical-align: middle;\n",
       "    }\n",
       "\n",
       "    .dataframe tbody tr th {\n",
       "        vertical-align: top;\n",
       "    }\n",
       "\n",
       "    .dataframe thead th {\n",
       "        text-align: right;\n",
       "    }\n",
       "</style>\n",
       "<table border=\"1\" class=\"dataframe\">\n",
       "  <thead>\n",
       "    <tr style=\"text-align: right;\">\n",
       "      <th></th>\n",
       "      <th>longitude</th>\n",
       "      <th>latitude</th>\n",
       "      <th>housing_median_age</th>\n",
       "      <th>total_rooms</th>\n",
       "      <th>total_bedrooms</th>\n",
       "      <th>population</th>\n",
       "      <th>households</th>\n",
       "      <th>median_income</th>\n",
       "      <th>ocean_proximity_&lt;1H OCEAN</th>\n",
       "      <th>ocean_proximity_INLAND</th>\n",
       "      <th>ocean_proximity_ISLAND</th>\n",
       "      <th>ocean_proximity_NEAR BAY</th>\n",
       "      <th>ocean_proximity_NEAR OCEAN</th>\n",
       "    </tr>\n",
       "  </thead>\n",
       "  <tbody>\n",
       "    <tr>\n",
       "      <th>20046</th>\n",
       "      <td>-119.01</td>\n",
       "      <td>36.06</td>\n",
       "      <td>25</td>\n",
       "      <td>1505</td>\n",
       "      <td>537.870553</td>\n",
       "      <td>1392</td>\n",
       "      <td>359</td>\n",
       "      <td>1.6812</td>\n",
       "      <td>0</td>\n",
       "      <td>1</td>\n",
       "      <td>0</td>\n",
       "      <td>0</td>\n",
       "      <td>0</td>\n",
       "    </tr>\n",
       "    <tr>\n",
       "      <th>3024</th>\n",
       "      <td>-119.46</td>\n",
       "      <td>35.14</td>\n",
       "      <td>30</td>\n",
       "      <td>2943</td>\n",
       "      <td>537.870553</td>\n",
       "      <td>1565</td>\n",
       "      <td>584</td>\n",
       "      <td>2.5313</td>\n",
       "      <td>0</td>\n",
       "      <td>1</td>\n",
       "      <td>0</td>\n",
       "      <td>0</td>\n",
       "      <td>0</td>\n",
       "    </tr>\n",
       "    <tr>\n",
       "      <th>15663</th>\n",
       "      <td>-122.44</td>\n",
       "      <td>37.80</td>\n",
       "      <td>52</td>\n",
       "      <td>3830</td>\n",
       "      <td>537.870553</td>\n",
       "      <td>1310</td>\n",
       "      <td>963</td>\n",
       "      <td>3.4801</td>\n",
       "      <td>0</td>\n",
       "      <td>0</td>\n",
       "      <td>0</td>\n",
       "      <td>1</td>\n",
       "      <td>0</td>\n",
       "    </tr>\n",
       "    <tr>\n",
       "      <th>20484</th>\n",
       "      <td>-118.72</td>\n",
       "      <td>34.28</td>\n",
       "      <td>17</td>\n",
       "      <td>3051</td>\n",
       "      <td>537.870553</td>\n",
       "      <td>1705</td>\n",
       "      <td>495</td>\n",
       "      <td>5.7376</td>\n",
       "      <td>1</td>\n",
       "      <td>0</td>\n",
       "      <td>0</td>\n",
       "      <td>0</td>\n",
       "      <td>0</td>\n",
       "    </tr>\n",
       "    <tr>\n",
       "      <th>9814</th>\n",
       "      <td>-121.93</td>\n",
       "      <td>36.62</td>\n",
       "      <td>34</td>\n",
       "      <td>2351</td>\n",
       "      <td>537.870553</td>\n",
       "      <td>1063</td>\n",
       "      <td>428</td>\n",
       "      <td>3.7250</td>\n",
       "      <td>0</td>\n",
       "      <td>0</td>\n",
       "      <td>0</td>\n",
       "      <td>0</td>\n",
       "      <td>1</td>\n",
       "    </tr>\n",
       "    <tr>\n",
       "      <th>...</th>\n",
       "      <td>...</td>\n",
       "      <td>...</td>\n",
       "      <td>...</td>\n",
       "      <td>...</td>\n",
       "      <td>...</td>\n",
       "      <td>...</td>\n",
       "      <td>...</td>\n",
       "      <td>...</td>\n",
       "      <td>...</td>\n",
       "      <td>...</td>\n",
       "      <td>...</td>\n",
       "      <td>...</td>\n",
       "      <td>...</td>\n",
       "    </tr>\n",
       "    <tr>\n",
       "      <th>15362</th>\n",
       "      <td>-117.22</td>\n",
       "      <td>33.36</td>\n",
       "      <td>16</td>\n",
       "      <td>3165</td>\n",
       "      <td>482.000000</td>\n",
       "      <td>1351</td>\n",
       "      <td>452</td>\n",
       "      <td>4.6050</td>\n",
       "      <td>1</td>\n",
       "      <td>0</td>\n",
       "      <td>0</td>\n",
       "      <td>0</td>\n",
       "      <td>0</td>\n",
       "    </tr>\n",
       "    <tr>\n",
       "      <th>16623</th>\n",
       "      <td>-120.83</td>\n",
       "      <td>35.36</td>\n",
       "      <td>28</td>\n",
       "      <td>4323</td>\n",
       "      <td>886.000000</td>\n",
       "      <td>1650</td>\n",
       "      <td>705</td>\n",
       "      <td>2.7266</td>\n",
       "      <td>0</td>\n",
       "      <td>0</td>\n",
       "      <td>0</td>\n",
       "      <td>0</td>\n",
       "      <td>1</td>\n",
       "    </tr>\n",
       "    <tr>\n",
       "      <th>18086</th>\n",
       "      <td>-122.05</td>\n",
       "      <td>37.31</td>\n",
       "      <td>25</td>\n",
       "      <td>4111</td>\n",
       "      <td>538.000000</td>\n",
       "      <td>1585</td>\n",
       "      <td>568</td>\n",
       "      <td>9.2298</td>\n",
       "      <td>1</td>\n",
       "      <td>0</td>\n",
       "      <td>0</td>\n",
       "      <td>0</td>\n",
       "      <td>0</td>\n",
       "    </tr>\n",
       "    <tr>\n",
       "      <th>2144</th>\n",
       "      <td>-119.76</td>\n",
       "      <td>36.77</td>\n",
       "      <td>36</td>\n",
       "      <td>2507</td>\n",
       "      <td>466.000000</td>\n",
       "      <td>1227</td>\n",
       "      <td>474</td>\n",
       "      <td>2.7850</td>\n",
       "      <td>0</td>\n",
       "      <td>1</td>\n",
       "      <td>0</td>\n",
       "      <td>0</td>\n",
       "      <td>0</td>\n",
       "    </tr>\n",
       "    <tr>\n",
       "      <th>3665</th>\n",
       "      <td>-118.37</td>\n",
       "      <td>34.22</td>\n",
       "      <td>17</td>\n",
       "      <td>1787</td>\n",
       "      <td>463.000000</td>\n",
       "      <td>1671</td>\n",
       "      <td>448</td>\n",
       "      <td>3.5521</td>\n",
       "      <td>1</td>\n",
       "      <td>0</td>\n",
       "      <td>0</td>\n",
       "      <td>0</td>\n",
       "      <td>0</td>\n",
       "    </tr>\n",
       "  </tbody>\n",
       "</table>\n",
       "<p>4128 rows × 13 columns</p>\n",
       "</div>"
      ],
      "text/plain": [
       "       longitude  latitude  housing_median_age  total_rooms  total_bedrooms  \\\n",
       "20046    -119.01     36.06                  25         1505      537.870553   \n",
       "3024     -119.46     35.14                  30         2943      537.870553   \n",
       "15663    -122.44     37.80                  52         3830      537.870553   \n",
       "20484    -118.72     34.28                  17         3051      537.870553   \n",
       "9814     -121.93     36.62                  34         2351      537.870553   \n",
       "...          ...       ...                 ...          ...             ...   \n",
       "15362    -117.22     33.36                  16         3165      482.000000   \n",
       "16623    -120.83     35.36                  28         4323      886.000000   \n",
       "18086    -122.05     37.31                  25         4111      538.000000   \n",
       "2144     -119.76     36.77                  36         2507      466.000000   \n",
       "3665     -118.37     34.22                  17         1787      463.000000   \n",
       "\n",
       "       population  households  median_income  ocean_proximity_<1H OCEAN  \\\n",
       "20046        1392         359         1.6812                          0   \n",
       "3024         1565         584         2.5313                          0   \n",
       "15663        1310         963         3.4801                          0   \n",
       "20484        1705         495         5.7376                          1   \n",
       "9814         1063         428         3.7250                          0   \n",
       "...           ...         ...            ...                        ...   \n",
       "15362        1351         452         4.6050                          1   \n",
       "16623        1650         705         2.7266                          0   \n",
       "18086        1585         568         9.2298                          1   \n",
       "2144         1227         474         2.7850                          0   \n",
       "3665         1671         448         3.5521                          1   \n",
       "\n",
       "       ocean_proximity_INLAND  ocean_proximity_ISLAND  \\\n",
       "20046                       1                       0   \n",
       "3024                        1                       0   \n",
       "15663                       0                       0   \n",
       "20484                       0                       0   \n",
       "9814                        0                       0   \n",
       "...                       ...                     ...   \n",
       "15362                       0                       0   \n",
       "16623                       0                       0   \n",
       "18086                       0                       0   \n",
       "2144                        1                       0   \n",
       "3665                        0                       0   \n",
       "\n",
       "       ocean_proximity_NEAR BAY  ocean_proximity_NEAR OCEAN  \n",
       "20046                         0                           0  \n",
       "3024                          0                           0  \n",
       "15663                         1                           0  \n",
       "20484                         0                           0  \n",
       "9814                          0                           1  \n",
       "...                         ...                         ...  \n",
       "15362                         0                           0  \n",
       "16623                         0                           1  \n",
       "18086                         0                           0  \n",
       "2144                          0                           0  \n",
       "3665                          0                           0  \n",
       "\n",
       "[4128 rows x 13 columns]"
      ]
     },
     "execution_count": 79,
     "metadata": {},
     "output_type": "execute_result"
    }
   ],
   "source": [
    "train_std_df=pd.DataFrame(X_train.drop(column=('ocean_proximity'))\n",
    "train_std_df\n",
    "test_std_df=pd.DataFrame(X_test)\n",
    "test_std_df"
   ]
  },
  {
   "cell_type": "markdown",
   "id": "304cde34-0971-4aa7-8398-4035405b5c12",
   "metadata": {},
   "source": [
    "### Perform Linear Regression : Perform Linear Regression on training data."
   ]
  },
  {
   "cell_type": "code",
   "execution_count": null,
   "id": "4ea0d085-4458-45a7-bf18-cd32b6894492",
   "metadata": {},
   "outputs": [],
   "source": [
    "##We will check the relationship between different ariables to undersatnd which variable shouldn't be using in our model."
   ]
  },
  {
   "cell_type": "code",
   "execution_count": 85,
   "id": "f0417347-15dc-48bd-8296-e093dc6fca72",
   "metadata": {},
   "outputs": [
    {
     "data": {
      "text/plain": [
       "<AxesSubplot:>"
      ]
     },
     "execution_count": 85,
     "metadata": {},
     "output_type": "execute_result"
    },
    {
     "data": {
      "image/png": "[encoded data removed]",
      "text/plain": [
       "<Figure size 720x720 with 2 Axes>"
      ]
     },
     "metadata": {
      "needs_background": "light"
     },
     "output_type": "display_data"
    }
   ],
   "source": [
    "import seaborn as sns\n",
    "import matplotlib.pyplot as plt\n",
    "plt.figure(figsize=(10,10))\n",
    "sns.heatmap(housing.drop(columns='ocean_proximity').corr(), annot=True,cmap='Blues')"
   ]
  },
  {
   "cell_type": "code",
   "execution_count": 113,
   "id": "37db3377-a533-4791-85d2-73331d63a0db",
   "metadata": {},
   "outputs": [
    {
     "data": {
      "text/plain": [
       "'longitude+latitude+housing_median_age+total_rooms+total_bedrooms+population+households+median_income'"
      ]
     },
     "execution_count": 113,
     "metadata": {},
     "output_type": "execute_result"
    }
   ],
   "source": [
    "x_train1='+'.join(train_std_df.drop(columns=['ocean_proximity_<1H OCEAN','ocean_proximity_INLAND','ocean_proximity_ISLAND','ocean_proximity_NEAR BAY','ocean_proximity_NEAR OCEAN']).columns)\n",
    "x_train1"
   ]
  },
  {
   "cell_type": "code",
   "execution_count": 102,
   "id": "4b7ba236-75dc-4377-8b79-e819c117a04f",
   "metadata": {},
   "outputs": [
    {
     "data": {
      "text/plain": [
       "'median_house_value ~longitude+latitude+housing_median_age+total_rooms+total_bedrooms+population+households+median_income'"
      ]
     },
     "execution_count": 102,
     "metadata": {},
     "output_type": "execute_result"
    }
   ],
   "source": [
    "'median_house_value ~' +'+'.join(train_std_df.drop(columns=['ocean_proximity_<1H OCEAN','ocean_proximity_INLAND','ocean_proximity_ISLAND','ocean_proximity_NEAR BAY','ocean_proximity_NEAR OCEAN']).columns)"
   ]
  },
  {
   "cell_type": "code",
   "execution_count": 110,
   "id": "acd2d3a5-26fd-4df4-810d-204af6550b10",
   "metadata": {
    "tags": []
   },
   "outputs": [
    {
     "data": {
      "text/html": [
       "<table class=\"simpletable\">\n",
       "<caption>OLS Regression Results</caption>\n",
       "<tr>\n",
       "  <th>Dep. Variable:</th>    <td>median_house_value</td> <th>  R-squared:         </th>  <td>   0.636</td>  \n",
       "</tr>\n",
       "<tr>\n",
       "  <th>Model:</th>                    <td>OLS</td>        <th>  Adj. R-squared:    </th>  <td>   0.635</td>  \n",
       "</tr>\n",
       "<tr>\n",
       "  <th>Method:</th>              <td>Least Squares</td>   <th>  F-statistic:       </th>  <td>   4499.</td>  \n",
       "</tr>\n",
       "<tr>\n",
       "  <th>Date:</th>              <td>Thu, 03 Nov 2022</td>  <th>  Prob (F-statistic):</th>   <td>  0.00</td>   \n",
       "</tr>\n",
       "<tr>\n",
       "  <th>Time:</th>                  <td>02:22:20</td>      <th>  Log-Likelihood:    </th> <td>-2.5945e+05</td>\n",
       "</tr>\n",
       "<tr>\n",
       "  <th>No. Observations:</th>       <td> 20640</td>       <th>  AIC:               </th>  <td>5.189e+05</td> \n",
       "</tr>\n",
       "<tr>\n",
       "  <th>Df Residuals:</th>           <td> 20631</td>       <th>  BIC:               </th>  <td>5.190e+05</td> \n",
       "</tr>\n",
       "<tr>\n",
       "  <th>Df Model:</th>               <td>     8</td>       <th>                     </th>      <td> </td>     \n",
       "</tr>\n",
       "<tr>\n",
       "  <th>Covariance Type:</th>       <td>nonrobust</td>     <th>                     </th>      <td> </td>     \n",
       "</tr>\n",
       "</table>\n",
       "<table class=\"simpletable\">\n",
       "<tr>\n",
       "           <td></td>             <th>coef</th>     <th>std err</th>      <th>t</th>      <th>P>|t|</th>  <th>[0.025</th>    <th>0.975]</th>  \n",
       "</tr>\n",
       "<tr>\n",
       "  <th>Intercept</th>          <td>-3.571e+06</td> <td> 6.26e+04</td> <td>  -57.035</td> <td> 0.000</td> <td>-3.69e+06</td> <td>-3.45e+06</td>\n",
       "</tr>\n",
       "<tr>\n",
       "  <th>longitude</th>          <td>-4.262e+04</td> <td>  714.112</td> <td>  -59.685</td> <td> 0.000</td> <td> -4.4e+04</td> <td>-4.12e+04</td>\n",
       "</tr>\n",
       "<tr>\n",
       "  <th>latitude</th>           <td>-4.248e+04</td> <td>  674.532</td> <td>  -62.976</td> <td> 0.000</td> <td>-4.38e+04</td> <td>-4.12e+04</td>\n",
       "</tr>\n",
       "<tr>\n",
       "  <th>housing_median_age</th> <td> 1144.4786</td> <td>   43.236</td> <td>   26.471</td> <td> 0.000</td> <td> 1059.733</td> <td> 1229.224</td>\n",
       "</tr>\n",
       "<tr>\n",
       "  <th>total_rooms</th>        <td>   -6.6806</td> <td>    0.775</td> <td>   -8.621</td> <td> 0.000</td> <td>   -8.199</td> <td>   -5.162</td>\n",
       "</tr>\n",
       "<tr>\n",
       "  <th>total_bedrooms</th>     <td>   82.4636</td> <td>    6.047</td> <td>   13.636</td> <td> 0.000</td> <td>   70.610</td> <td>   94.317</td>\n",
       "</tr>\n",
       "<tr>\n",
       "  <th>population</th>         <td>  -39.8333</td> <td>    1.072</td> <td>  -37.164</td> <td> 0.000</td> <td>  -41.934</td> <td>  -37.732</td>\n",
       "</tr>\n",
       "<tr>\n",
       "  <th>households</th>         <td>   78.1123</td> <td>    6.784</td> <td>   11.514</td> <td> 0.000</td> <td>   64.815</td> <td>   91.410</td>\n",
       "</tr>\n",
       "<tr>\n",
       "  <th>median_income</th>      <td> 3.977e+04</td> <td>  331.942</td> <td>  119.815</td> <td> 0.000</td> <td> 3.91e+04</td> <td> 4.04e+04</td>\n",
       "</tr>\n",
       "</table>\n",
       "<table class=\"simpletable\">\n",
       "<tr>\n",
       "  <th>Omnibus:</th>       <td>5040.064</td> <th>  Durbin-Watson:     </th> <td>   0.965</td> \n",
       "</tr>\n",
       "<tr>\n",
       "  <th>Prob(Omnibus):</th>  <td> 0.000</td>  <th>  Jarque-Bera (JB):  </th> <td>18972.448</td>\n",
       "</tr>\n",
       "<tr>\n",
       "  <th>Skew:</th>           <td> 1.184</td>  <th>  Prob(JB):          </th> <td>    0.00</td> \n",
       "</tr>\n",
       "<tr>\n",
       "  <th>Kurtosis:</th>       <td> 7.056</td>  <th>  Cond. No.          </th> <td>5.09e+05</td> \n",
       "</tr>\n",
       "</table><br/><br/>Notes:<br/>[1] Standard Errors assume that the covariance matrix of the errors is correctly specified.<br/>[2] The condition number is large, 5.09e+05. This might indicate that there are<br/>strong multicollinearity or other numerical problems."
      ],
      "text/plain": [
       "<class 'statsmodels.iolib.summary.Summary'>\n",
       "\"\"\"\n",
       "                            OLS Regression Results                            \n",
       "==============================================================================\n",
       "Dep. Variable:     median_house_value   R-squared:                       0.636\n",
       "Model:                            OLS   Adj. R-squared:                  0.635\n",
       "Method:                 Least Squares   F-statistic:                     4499.\n",
       "Date:                Thu, 03 Nov 2022   Prob (F-statistic):               0.00\n",
       "Time:                        02:22:20   Log-Likelihood:            -2.5945e+05\n",
       "No. Observations:               20640   AIC:                         5.189e+05\n",
       "Df Residuals:                   20631   BIC:                         5.190e+05\n",
       "Df Model:                           8                                         \n",
       "Covariance Type:            nonrobust                                         \n",
       "======================================================================================\n",
       "                         coef    std err          t      P>|t|      [0.025      0.975]\n",
       "--------------------------------------------------------------------------------------\n",
       "Intercept          -3.571e+06   6.26e+04    -57.035      0.000   -3.69e+06   -3.45e+06\n",
       "longitude          -4.262e+04    714.112    -59.685      0.000    -4.4e+04   -4.12e+04\n",
       "latitude           -4.248e+04    674.532    -62.976      0.000   -4.38e+04   -4.12e+04\n",
       "housing_median_age  1144.4786     43.236     26.471      0.000    1059.733    1229.224\n",
       "total_rooms           -6.6806      0.775     -8.621      0.000      -8.199      -5.162\n",
       "total_bedrooms        82.4636      6.047     13.636      0.000      70.610      94.317\n",
       "population           -39.8333      1.072    -37.164      0.000     -41.934     -37.732\n",
       "households            78.1123      6.784     11.514      0.000      64.815      91.410\n",
       "median_income       3.977e+04    331.942    119.815      0.000    3.91e+04    4.04e+04\n",
       "==============================================================================\n",
       "Omnibus:                     5040.064   Durbin-Watson:                   0.965\n",
       "Prob(Omnibus):                  0.000   Jarque-Bera (JB):            18972.448\n",
       "Skew:                           1.184   Prob(JB):                         0.00\n",
       "Kurtosis:                       7.056   Cond. No.                     5.09e+05\n",
       "==============================================================================\n",
       "\n",
       "Notes:\n",
       "[1] Standard Errors assume that the covariance matrix of the errors is correctly specified.\n",
       "[2] The condition number is large, 5.09e+05. This might indicate that there are\n",
       "strong multicollinearity or other numerical problems.\n",
       "\"\"\""
      ]
     },
     "execution_count": 110,
     "metadata": {},
     "output_type": "execute_result"
    }
   ],
   "source": [
    "from statsmodels.formula.api import ols\n",
    "mod = ols('median_house_value ~' +'+'.join(train_std_df.drop(columns=['ocean_proximity_<1H OCEAN','ocean_proximity_INLAND','ocean_proximity_ISLAND','ocean_proximity_NEAR BAY','ocean_proximity_NEAR OCEAN']).columns),data=df1)\n",
    "lm_fit = mod.fit()\n",
    "lm_fit.summary()"
   ]
  },
  {
   "cell_type": "code",
   "execution_count": 111,
   "id": "bb9a2ac0-9a74-4fd9-b8d1-6b5bf22cc1b5",
   "metadata": {},
   "outputs": [],
   "source": [
    "from sklearn.linear_model import LinearRegression\n",
    "model = LinearRegression()"
   ]
  },
  {
   "cell_type": "code",
   "execution_count": 118,
   "id": "71a3987a-b3c1-4ee7-8d3b-5fb686b84d33",
   "metadata": {},
   "outputs": [
    {
     "data": {
      "text/plain": [
       "LinearRegression()"
      ]
     },
     "execution_count": 118,
     "metadata": {},
     "output_type": "execute_result"
    }
   ],
   "source": [
    "model.fit(train_std_df, y_train)"
   ]
  },
  {
   "cell_type": "code",
   "execution_count": 119,
   "id": "7862c91b-d1f4-496b-946b-c3a96adac78d",
   "metadata": {},
   "outputs": [
    {
     "name": "stdout",
     "output_type": "stream",
     "text": [
      "[-2.68382734e+04 -2.54683520e+04  1.10218508e+03 -6.02150567e+00\n",
      "  1.02789395e+02 -3.81729064e+01  4.82527528e+01  3.94739752e+04\n",
      " -1.89265829e+04 -5.87132390e+04  1.17198490e+05 -2.40632251e+04\n",
      " -1.54954428e+04]\n"
     ]
    }
   ],
   "source": [
    "print(model.coef_) ###Bnot values"
   ]
  },
  {
   "cell_type": "code",
   "execution_count": 120,
   "id": "5cc73422-4043-490a-b83c-d7470e47f3ba",
   "metadata": {},
   "outputs": [
    {
     "data": {
      "text/html": [
       "<div>\n",
       "<style scoped>\n",
       "    .dataframe tbody tr th:only-of-type {\n",
       "        vertical-align: middle;\n",
       "    }\n",
       "\n",
       "    .dataframe tbody tr th {\n",
       "        vertical-align: top;\n",
       "    }\n",
       "\n",
       "    .dataframe thead th {\n",
       "        text-align: right;\n",
       "    }\n",
       "</style>\n",
       "<table border=\"1\" class=\"dataframe\">\n",
       "  <thead>\n",
       "    <tr style=\"text-align: right;\">\n",
       "      <th></th>\n",
       "      <th>Coeff</th>\n",
       "    </tr>\n",
       "  </thead>\n",
       "  <tbody>\n",
       "    <tr>\n",
       "      <th>longitude</th>\n",
       "      <td>-26838.273372</td>\n",
       "    </tr>\n",
       "    <tr>\n",
       "      <th>latitude</th>\n",
       "      <td>-25468.352050</td>\n",
       "    </tr>\n",
       "    <tr>\n",
       "      <th>housing_median_age</th>\n",
       "      <td>1102.185084</td>\n",
       "    </tr>\n",
       "    <tr>\n",
       "      <th>total_rooms</th>\n",
       "      <td>-6.021506</td>\n",
       "    </tr>\n",
       "    <tr>\n",
       "      <th>total_bedrooms</th>\n",
       "      <td>102.789395</td>\n",
       "    </tr>\n",
       "    <tr>\n",
       "      <th>population</th>\n",
       "      <td>-38.172906</td>\n",
       "    </tr>\n",
       "    <tr>\n",
       "      <th>households</th>\n",
       "      <td>48.252753</td>\n",
       "    </tr>\n",
       "    <tr>\n",
       "      <th>median_income</th>\n",
       "      <td>39473.975175</td>\n",
       "    </tr>\n",
       "    <tr>\n",
       "      <th>ocean_proximity_&lt;1H OCEAN</th>\n",
       "      <td>-18926.582862</td>\n",
       "    </tr>\n",
       "    <tr>\n",
       "      <th>ocean_proximity_INLAND</th>\n",
       "      <td>-58713.239023</td>\n",
       "    </tr>\n",
       "    <tr>\n",
       "      <th>ocean_proximity_ISLAND</th>\n",
       "      <td>117198.489753</td>\n",
       "    </tr>\n",
       "    <tr>\n",
       "      <th>ocean_proximity_NEAR BAY</th>\n",
       "      <td>-24063.225079</td>\n",
       "    </tr>\n",
       "    <tr>\n",
       "      <th>ocean_proximity_NEAR OCEAN</th>\n",
       "      <td>-15495.442789</td>\n",
       "    </tr>\n",
       "  </tbody>\n",
       "</table>\n",
       "</div>"
      ],
      "text/plain": [
       "                                    Coeff\n",
       "longitude                   -26838.273372\n",
       "latitude                    -25468.352050\n",
       "housing_median_age            1102.185084\n",
       "total_rooms                     -6.021506\n",
       "total_bedrooms                 102.789395\n",
       "population                     -38.172906\n",
       "households                      48.252753\n",
       "median_income                39473.975175\n",
       "ocean_proximity_<1H OCEAN   -18926.582862\n",
       "ocean_proximity_INLAND      -58713.239023\n",
       "ocean_proximity_ISLAND      117198.489753\n",
       "ocean_proximity_NEAR BAY    -24063.225079\n",
       "ocean_proximity_NEAR OCEAN  -15495.442789"
      ]
     },
     "execution_count": 120,
     "metadata": {},
     "output_type": "execute_result"
    }
   ],
   "source": [
    "pd.DataFrame(model.coef_, train_std_df.columns, columns = ['Coeff'])"
   ]
  },
  {
   "cell_type": "markdown",
   "id": "6f24632a-17d8-44eb-86ed-5d10d89f7c62",
   "metadata": {},
   "source": [
    "### predict"
   ]
  },
  {
   "cell_type": "code",
   "execution_count": 194,
   "id": "7bb2a113-07fe-4dc5-9730-72fa1a902992",
   "metadata": {},
   "outputs": [],
   "source": [
    "predictions = model.predict(test_std_df)"
   ]
  },
  {
   "cell_type": "code",
   "execution_count": 195,
   "id": "bbccd44c-f33b-4111-a895-27d1a5c7d5f7",
   "metadata": {},
   "outputs": [
    {
     "data": {
      "text/plain": [
       "<matplotlib.collections.PathCollection at 0x1def28587f0>"
      ]
     },
     "execution_count": 195,
     "metadata": {},
     "output_type": "execute_result"
    },
    {
     "data": {
      "image/png": "[encoded data removed]",
      "text/plain": [
       "<Figure size 432x288 with 1 Axes>"
      ]
     },
     "metadata": {
      "needs_background": "light"
     },
     "output_type": "display_data"
    }
   ],
   "source": [
    "plt.scatter(y_test, predictions)"
   ]
  },
  {
   "cell_type": "code",
   "execution_count": 200,
   "id": "b502d0c8-f918-4d96-b063-2b9793a83457",
   "metadata": {},
   "outputs": [
    {
     "data": {
      "text/plain": [
       "(array([   4.,   18.,  249., 1935., 1422.,  334.,  122.,   35.,    7.,\n",
       "           2.]),\n",
       " array([-318233.77008005, -239928.616191  , -161623.46230195,\n",
       "         -83318.3084129 ,   -5013.15452386,   73291.99936519,\n",
       "         151597.15325424,  229902.30714329,  308207.46103233,\n",
       "         386512.61492138,  464817.76881043]),\n",
       " <BarContainer object of 10 artists>)"
      ]
     },
     "execution_count": 200,
     "metadata": {},
     "output_type": "execute_result"
    },
    {
     "data": {
      "image/png": "[encoded data removed]",
      "text/plain": [
       "<Figure size 432x288 with 1 Axes>"
      ]
     },
     "metadata": {
      "needs_background": "light"
     },
     "output_type": "display_data"
    }
   ],
   "source": [
    "plt.hist(y_test - predictions)"
   ]
  },
  {
   "cell_type": "markdown",
   "id": "e265e6b5-33fa-4d1c-a57b-e5698f5c419b",
   "metadata": {},
   "source": [
    "### Print root mean squared error (RMSE) from Linear Regression."
   ]
  },
  {
   "cell_type": "code",
   "execution_count": 131,
   "id": "fe46dfaa-6808-4fb6-82e4-f68b24802858",
   "metadata": {},
   "outputs": [],
   "source": [
    "from sklearn.metrics import mean_squared_error,r2_score"
   ]
  },
  {
   "cell_type": "code",
   "execution_count": 197,
   "id": "b96b403a-48c8-4a65-9e9a-465bbcf9b1e3",
   "metadata": {},
   "outputs": [
    {
     "data": {
      "text/plain": [
       "70031.41991955669"
      ]
     },
     "execution_count": 197,
     "metadata": {},
     "output_type": "execute_result"
    }
   ],
   "source": [
    "import math as m\n",
    "m.sqrt(mean_squared_error(y_test,predictions))"
   ]
  },
  {
   "cell_type": "code",
   "execution_count": 203,
   "id": "025c83f8-c251-4ae0-9fba-9dbfc2d092b0",
   "metadata": {},
   "outputs": [
    {
     "data": {
      "text/plain": [
       "0.35"
      ]
     },
     "execution_count": 203,
     "metadata": {},
     "output_type": "execute_result"
    }
   ],
   "source": [
    "70000/200000"
   ]
  },
  {
   "cell_type": "code",
   "execution_count": 198,
   "id": "f6543514-4b39-4b69-9c07-6dfebd031343",
   "metadata": {},
   "outputs": [
    {
     "name": "stdout",
     "output_type": "stream",
     "text": [
      "0.62573518211597\n"
     ]
    }
   ],
   "source": [
    "print((r2_score(y_test,predictions)))"
   ]
  },
  {
   "cell_type": "markdown",
   "id": "cc55c76b-60b7-4c28-962a-f6577fcbbd1b",
   "metadata": {},
   "source": [
    "### Extract just the median_income column from the independent variables (from X_train and X_test)."
   ]
  },
  {
   "cell_type": "code",
   "execution_count": 186,
   "id": "42b0e51d-0ae6-4e02-93a5-f0f51354e30e",
   "metadata": {},
   "outputs": [
    {
     "name": "stdout",
     "output_type": "stream",
     "text": [
      "(20640, 1)\n",
      "(20640, 1)\n",
      "(16512, 1)\n",
      "(16512, 1)\n"
     ]
    }
   ],
   "source": [
    "x1=df[['median_income']]\n",
    "\n",
    "y1=df[['median_house_value']]\n",
    "\n",
    "print(x1.shape)\n",
    "print(y1.shape)\n",
    "X_train1, X_test1, y_train1,y_test1 = train_test_split(x1,y1,test_size=.20,random_state=42)\n",
    "print(X_train1.shape)\n",
    "print(y_train1.shape)\n",
    "#tand.fit_transform(X_train1,X_test1)\n",
    "\n",
    "#ain_std1=pd.DataFrame()\n",
    "#rain_std1\n"
   ]
  },
  {
   "cell_type": "markdown",
   "id": "bcca60d6-ae96-41eb-8450-71fe77367a66",
   "metadata": {},
   "source": [
    "### Perform Linear Regression to predict housing values based on median_income."
   ]
  },
  {
   "cell_type": "code",
   "execution_count": 145,
   "id": "5ced8888-cb74-4cd6-82e4-aa05bddc8207",
   "metadata": {},
   "outputs": [],
   "source": [
    "model2 = LinearRegression()"
   ]
  },
  {
   "cell_type": "code",
   "execution_count": 187,
   "id": "8df2641d-6f4d-41dc-8253-d1ff349aa687",
   "metadata": {},
   "outputs": [
    {
     "data": {
      "text/plain": [
       "LinearRegression()"
      ]
     },
     "execution_count": 187,
     "metadata": {},
     "output_type": "execute_result"
    }
   ],
   "source": [
    "model2.fit(X_train1,y_train1)\n"
   ]
  },
  {
   "cell_type": "markdown",
   "id": "c79129c9-8624-4181-8cc8-418a9de781f5",
   "metadata": {},
   "source": [
    "### Predict output for test dataset using the fitted model."
   ]
  },
  {
   "cell_type": "code",
   "execution_count": 189,
   "id": "e8d80a48-3548-4f93-a6ce-6abb140ee482",
   "metadata": {},
   "outputs": [],
   "source": [
    "predict1=model2.predict(X_test1)"
   ]
  },
  {
   "cell_type": "markdown",
   "id": "7cc0ea1b-e4a6-42f7-b5b6-63f7be0c2de3",
   "metadata": {},
   "source": [
    "### Plot the fitted model for training data as well as for test data to check if the fitted model satisfies the test data."
   ]
  },
  {
   "cell_type": "code",
   "execution_count": 190,
   "id": "b72cf3a3-8ed9-48e8-b1e9-dacccd582aa1",
   "metadata": {},
   "outputs": [
    {
     "data": {
      "text/plain": [
       "<matplotlib.collections.PathCollection at 0x1def278dd00>"
      ]
     },
     "execution_count": 190,
     "metadata": {},
     "output_type": "execute_result"
    },
    {
     "data": {
      "image/png": "[encoded data removed]",
      "text/plain": [
       "<Figure size 432x288 with 1 Axes>"
      ]
     },
     "metadata": {
      "needs_background": "light"
     },
     "output_type": "display_data"
    }
   ],
   "source": [
    "plt.scatter(y_test1, predict1)"
   ]
  },
  {
   "cell_type": "code",
   "execution_count": 210,
   "id": "aa9be536-641c-4e67-a662-8c554c0ecfb5",
   "metadata": {},
   "outputs": [
    {
     "data": {
      "text/plain": [
       "84209.01241414454"
      ]
     },
     "execution_count": 210,
     "metadata": {},
     "output_type": "execute_result"
    }
   ],
   "source": [
    "from sklearn.metrics import mean_squared_error,r2_score\n",
    "import statsmodels.api as sm\n",
    "import math as m\n",
    "m.sqrt(mean_squared_error(y_test1,predict1))\n"
   ]
  },
  {
   "cell_type": "code",
   "execution_count": 205,
   "id": "f33d670b-8ca4-43f9-9515-4f702baabdaf",
   "metadata": {},
   "outputs": [
    {
     "data": {
      "text/plain": [
       "0.45885918903846656"
      ]
     },
     "execution_count": 205,
     "metadata": {},
     "output_type": "execute_result"
    }
   ],
   "source": [
    "R2=(r2_score(y_test1,predict1))\n",
    "R2"
   ]
  },
  {
   "cell_type": "code",
   "execution_count": 211,
   "id": "42f56a43-1498-4410-a74c-ac2805068a61",
   "metadata": {},
   "outputs": [
    {
     "ename": "AttributeError",
     "evalue": "'LinearRegression' object has no attribute 'rsquared_adj'",
     "output_type": "error",
     "traceback": [
      "\u001b[1;31m---------------------------------------------------------------------------\u001b[0m",
      "\u001b[1;31mAttributeError\u001b[0m                            Traceback (most recent call last)",
      "Input \u001b[1;32mIn [211]\u001b[0m, in \u001b[0;36m<cell line: 1>\u001b[1;34m()\u001b[0m\n\u001b[1;32m----> 1\u001b[0m \u001b[38;5;28mprint\u001b[39m(\u001b[43mmodel2\u001b[49m\u001b[38;5;241;43m.\u001b[39;49m\u001b[43mrsquared_adj\u001b[49m)\n",
      "\u001b[1;31mAttributeError\u001b[0m: 'LinearRegression' object has no attribute 'rsquared_adj'"
     ]
    }
   ],
   "source": [
    "#\n"
   ]
  },
  {
   "cell_type": "code",
   "execution_count": null,
   "id": "3f3bd325-a3bc-4cda-9225-ad5181009dec",
   "metadata": {},
   "outputs": [],
   "source": []
  }
 ],
 "metadata": {
  "kernelspec": {
   "display_name": "Python 3 (ipykernel)",
   "language": "python",
   "name": "python3"
  },
  "language_info": {
   "codemirror_mode": {
    "name": "ipython",
    "version": 3
   },
   "file_extension": ".py",
   "mimetype": "text/x-python",
   "name": "python",
   "nbconvert_exporter": "python",
   "pygments_lexer": "ipython3",
   "version": "3.9.12"
  },
  "toc-showmarkdowntxt": false
 },
 "nbformat": 4,
 "nbformat_minor": 5
}
